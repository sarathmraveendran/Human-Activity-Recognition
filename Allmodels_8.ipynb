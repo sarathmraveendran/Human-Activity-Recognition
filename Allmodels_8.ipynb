{
 "cells": [
  {
   "cell_type": "code",
   "execution_count": 1,
   "metadata": {},
   "outputs": [],
   "source": [
    "import pandas as pd\n",
    "import numpy as np\n",
    "#from signal_filtering import butter_highpass_filter\n",
    "#from scipy.signal import butter, lfilter\n",
    "import matplotlib.pyplot as plt\n",
    "from scipy.signal import butter, filtfilt\n",
    "import seaborn as sns\n",
    "from scipy import stats\n",
    "from torch.autograd import Variable\n",
    "\n",
    "%matplotlib inline\n",
    "\n",
    "from torch import nn\n",
    "import torch\n",
    "import torch.nn.functional as F\n",
    "from torch.utils.data import DataLoader, TensorDataset, random_split\n",
    "from sklearn.model_selection import train_test_split\n"
   ]
  },
  {
   "cell_type": "code",
   "execution_count": 2,
   "metadata": {},
   "outputs": [
    {
     "data": {
      "text/html": [
       "<div>\n",
       "<style scoped>\n",
       "    .dataframe tbody tr th:only-of-type {\n",
       "        vertical-align: middle;\n",
       "    }\n",
       "\n",
       "    .dataframe tbody tr th {\n",
       "        vertical-align: top;\n",
       "    }\n",
       "\n",
       "    .dataframe thead th {\n",
       "        text-align: right;\n",
       "    }\n",
       "</style>\n",
       "<table border=\"1\" class=\"dataframe\">\n",
       "  <thead>\n",
       "    <tr style=\"text-align: right;\">\n",
       "      <th></th>\n",
       "      <th>activity_ID</th>\n",
       "      <th>16g_acc_x</th>\n",
       "      <th>16g_acc_y</th>\n",
       "      <th>16g_acc_z</th>\n",
       "      <th>gyroscope_x</th>\n",
       "      <th>gyroscope_y</th>\n",
       "      <th>gyroscope_z</th>\n",
       "    </tr>\n",
       "  </thead>\n",
       "  <tbody>\n",
       "    <tr>\n",
       "      <th>0</th>\n",
       "      <td>0</td>\n",
       "      <td>-2.523174</td>\n",
       "      <td>0.638704</td>\n",
       "      <td>0.353806</td>\n",
       "      <td>-0.018261</td>\n",
       "      <td>-0.002568</td>\n",
       "      <td>0.004911</td>\n",
       "    </tr>\n",
       "    <tr>\n",
       "      <th>1</th>\n",
       "      <td>0</td>\n",
       "      <td>3.859764</td>\n",
       "      <td>-0.984588</td>\n",
       "      <td>-0.529219</td>\n",
       "      <td>0.034743</td>\n",
       "      <td>0.003378</td>\n",
       "      <td>-0.015060</td>\n",
       "    </tr>\n",
       "    <tr>\n",
       "      <th>2</th>\n",
       "      <td>0</td>\n",
       "      <td>1.460387</td>\n",
       "      <td>-0.349027</td>\n",
       "      <td>-0.285561</td>\n",
       "      <td>0.001189</td>\n",
       "      <td>-0.003244</td>\n",
       "      <td>0.017939</td>\n",
       "    </tr>\n",
       "    <tr>\n",
       "      <th>3</th>\n",
       "      <td>0</td>\n",
       "      <td>-1.320136</td>\n",
       "      <td>0.347531</td>\n",
       "      <td>0.291641</td>\n",
       "      <td>-0.011087</td>\n",
       "      <td>-0.000596</td>\n",
       "      <td>-0.007024</td>\n",
       "    </tr>\n",
       "    <tr>\n",
       "      <th>4</th>\n",
       "      <td>0</td>\n",
       "      <td>-2.254299</td>\n",
       "      <td>0.534639</td>\n",
       "      <td>0.344219</td>\n",
       "      <td>-0.017177</td>\n",
       "      <td>0.024410</td>\n",
       "      <td>-0.001884</td>\n",
       "    </tr>\n",
       "    <tr>\n",
       "      <th>5</th>\n",
       "      <td>0</td>\n",
       "      <td>-1.115861</td>\n",
       "      <td>0.239828</td>\n",
       "      <td>0.126407</td>\n",
       "      <td>-0.013250</td>\n",
       "      <td>-0.019524</td>\n",
       "      <td>-0.006404</td>\n",
       "    </tr>\n",
       "    <tr>\n",
       "      <th>6</th>\n",
       "      <td>0</td>\n",
       "      <td>0.229772</td>\n",
       "      <td>-0.051808</td>\n",
       "      <td>-0.122391</td>\n",
       "      <td>0.010658</td>\n",
       "      <td>-0.015654</td>\n",
       "      <td>0.006204</td>\n",
       "    </tr>\n",
       "    <tr>\n",
       "      <th>7</th>\n",
       "      <td>0</td>\n",
       "      <td>1.016572</td>\n",
       "      <td>-0.148509</td>\n",
       "      <td>-0.163267</td>\n",
       "      <td>0.019075</td>\n",
       "      <td>0.013322</td>\n",
       "      <td>0.001412</td>\n",
       "    </tr>\n",
       "    <tr>\n",
       "      <th>8</th>\n",
       "      <td>0</td>\n",
       "      <td>1.044065</td>\n",
       "      <td>-0.324543</td>\n",
       "      <td>-0.114416</td>\n",
       "      <td>0.030157</td>\n",
       "      <td>-0.008835</td>\n",
       "      <td>-0.003679</td>\n",
       "    </tr>\n",
       "    <tr>\n",
       "      <th>9</th>\n",
       "      <td>0</td>\n",
       "      <td>0.579547</td>\n",
       "      <td>-0.054715</td>\n",
       "      <td>0.035769</td>\n",
       "      <td>-0.013229</td>\n",
       "      <td>-0.000226</td>\n",
       "      <td>0.023129</td>\n",
       "    </tr>\n",
       "  </tbody>\n",
       "</table>\n",
       "</div>"
      ],
      "text/plain": [
       "   activity_ID  16g_acc_x  16g_acc_y  16g_acc_z  gyroscope_x  gyroscope_y  \\\n",
       "0            0  -2.523174   0.638704   0.353806    -0.018261    -0.002568   \n",
       "1            0   3.859764  -0.984588  -0.529219     0.034743     0.003378   \n",
       "2            0   1.460387  -0.349027  -0.285561     0.001189    -0.003244   \n",
       "3            0  -1.320136   0.347531   0.291641    -0.011087    -0.000596   \n",
       "4            0  -2.254299   0.534639   0.344219    -0.017177     0.024410   \n",
       "5            0  -1.115861   0.239828   0.126407    -0.013250    -0.019524   \n",
       "6            0   0.229772  -0.051808  -0.122391     0.010658    -0.015654   \n",
       "7            0   1.016572  -0.148509  -0.163267     0.019075     0.013322   \n",
       "8            0   1.044065  -0.324543  -0.114416     0.030157    -0.008835   \n",
       "9            0   0.579547  -0.054715   0.035769    -0.013229    -0.000226   \n",
       "\n",
       "   gyroscope_z  \n",
       "0     0.004911  \n",
       "1    -0.015060  \n",
       "2     0.017939  \n",
       "3    -0.007024  \n",
       "4    -0.001884  \n",
       "5    -0.006404  \n",
       "6     0.006204  \n",
       "7     0.001412  \n",
       "8    -0.003679  \n",
       "9     0.023129  "
      ]
     },
     "execution_count": 2,
     "metadata": {},
     "output_type": "execute_result"
    }
   ],
   "source": [
    "df = pd.read_csv(\"train.csv\")\n",
    "df.drop(df.columns[[0, 1,6,7,8]], axis = 1, inplace = True) \n",
    "df.head(10)"
   ]
  },
  {
   "cell_type": "code",
   "execution_count": 3,
   "metadata": {},
   "outputs": [
    {
     "name": "stdout",
     "output_type": "stream",
     "text": [
      "(391243, 9)\n"
     ]
    },
    {
     "data": {
      "text/html": [
       "<div>\n",
       "<style scoped>\n",
       "    .dataframe tbody tr th:only-of-type {\n",
       "        vertical-align: middle;\n",
       "    }\n",
       "\n",
       "    .dataframe tbody tr th {\n",
       "        vertical-align: top;\n",
       "    }\n",
       "\n",
       "    .dataframe thead th {\n",
       "        text-align: right;\n",
       "    }\n",
       "</style>\n",
       "<table border=\"1\" class=\"dataframe\">\n",
       "  <thead>\n",
       "    <tr style=\"text-align: right;\">\n",
       "      <th></th>\n",
       "      <th>activity_ID</th>\n",
       "      <th>16g_acc_x</th>\n",
       "      <th>16g_acc_y</th>\n",
       "      <th>16g_acc_z</th>\n",
       "      <th>gyroscope_x</th>\n",
       "      <th>gyroscope_y</th>\n",
       "      <th>gyroscope_z</th>\n",
       "      <th>acc_z_diff</th>\n",
       "      <th>gyr_z_diff</th>\n",
       "    </tr>\n",
       "  </thead>\n",
       "  <tbody>\n",
       "    <tr>\n",
       "      <th>0</th>\n",
       "      <td>0</td>\n",
       "      <td>-2.523174</td>\n",
       "      <td>0.638704</td>\n",
       "      <td>0.353806</td>\n",
       "      <td>-0.018261</td>\n",
       "      <td>-0.002568</td>\n",
       "      <td>0.004911</td>\n",
       "      <td>0.883026</td>\n",
       "      <td>0.019972</td>\n",
       "    </tr>\n",
       "    <tr>\n",
       "      <th>1</th>\n",
       "      <td>0</td>\n",
       "      <td>3.859764</td>\n",
       "      <td>-0.984588</td>\n",
       "      <td>-0.529219</td>\n",
       "      <td>0.034743</td>\n",
       "      <td>0.003378</td>\n",
       "      <td>-0.015060</td>\n",
       "      <td>-0.243658</td>\n",
       "      <td>-0.033000</td>\n",
       "    </tr>\n",
       "    <tr>\n",
       "      <th>2</th>\n",
       "      <td>0</td>\n",
       "      <td>1.460387</td>\n",
       "      <td>-0.349027</td>\n",
       "      <td>-0.285561</td>\n",
       "      <td>0.001189</td>\n",
       "      <td>-0.003244</td>\n",
       "      <td>0.017939</td>\n",
       "      <td>-0.577201</td>\n",
       "      <td>0.024963</td>\n",
       "    </tr>\n",
       "    <tr>\n",
       "      <th>3</th>\n",
       "      <td>0</td>\n",
       "      <td>-1.320136</td>\n",
       "      <td>0.347531</td>\n",
       "      <td>0.291641</td>\n",
       "      <td>-0.011087</td>\n",
       "      <td>-0.000596</td>\n",
       "      <td>-0.007024</td>\n",
       "      <td>-0.052578</td>\n",
       "      <td>-0.005140</td>\n",
       "    </tr>\n",
       "    <tr>\n",
       "      <th>4</th>\n",
       "      <td>0</td>\n",
       "      <td>-2.254299</td>\n",
       "      <td>0.534639</td>\n",
       "      <td>0.344219</td>\n",
       "      <td>-0.017177</td>\n",
       "      <td>0.024410</td>\n",
       "      <td>-0.001884</td>\n",
       "      <td>0.217812</td>\n",
       "      <td>0.004520</td>\n",
       "    </tr>\n",
       "  </tbody>\n",
       "</table>\n",
       "</div>"
      ],
      "text/plain": [
       "   activity_ID  16g_acc_x  16g_acc_y  16g_acc_z  gyroscope_x  gyroscope_y  \\\n",
       "0            0  -2.523174   0.638704   0.353806    -0.018261    -0.002568   \n",
       "1            0   3.859764  -0.984588  -0.529219     0.034743     0.003378   \n",
       "2            0   1.460387  -0.349027  -0.285561     0.001189    -0.003244   \n",
       "3            0  -1.320136   0.347531   0.291641    -0.011087    -0.000596   \n",
       "4            0  -2.254299   0.534639   0.344219    -0.017177     0.024410   \n",
       "\n",
       "   gyroscope_z  acc_z_diff  gyr_z_diff  \n",
       "0     0.004911    0.883026    0.019972  \n",
       "1    -0.015060   -0.243658   -0.033000  \n",
       "2     0.017939   -0.577201    0.024963  \n",
       "3    -0.007024   -0.052578   -0.005140  \n",
       "4    -0.001884    0.217812    0.004520  "
      ]
     },
     "execution_count": 3,
     "metadata": {},
     "output_type": "execute_result"
    }
   ],
   "source": [
    "\n",
    "df['acc_z_diff'] = df['16g_acc_z']-df['16g_acc_z'].shift(-1)\n",
    "df['gyr_z_diff'] = df['gyroscope_z']-df['gyroscope_z'].shift(-1)\n",
    "print(df.shape)\n",
    "df.head()"
   ]
  },
  {
   "cell_type": "code",
   "execution_count": 4,
   "metadata": {},
   "outputs": [],
   "source": [
    "def remove_10_seconds(dataset):\n",
    "    dataset['act_block'] = (dataset['activity_ID'].shift(1) != dataset['activity_ID']).astype(int).cumsum()\n",
    "    drop_index = []\n",
    "    numblocks = dataset['act_block'].max()\n",
    "    for block in range(1, numblocks + 1):\n",
    "        drop_index += list(dataset[dataset['act_block'] == block].head(1000).index)\n",
    "        drop_index += list(dataset[dataset['act_block'] == block].tail(1000).index)\n",
    "    dataset = dataset.drop(drop_index)\n",
    "    dataset = dataset.dropna()\n",
    "    dataset = dataset.drop(['act_block'], axis=1)\n",
    "    return dataset"
   ]
  },
  {
   "cell_type": "code",
   "execution_count": 5,
   "metadata": {},
   "outputs": [],
   "source": [
    "df = remove_10_seconds(df)"
   ]
  },
  {
   "cell_type": "code",
   "execution_count": 6,
   "metadata": {},
   "outputs": [],
   "source": [
    "Fs = 50\n",
    "frame_size = Fs*2 # 200\n",
    "hop_size = Fs # 100"
   ]
  },
  {
   "cell_type": "code",
   "execution_count": 7,
   "metadata": {},
   "outputs": [],
   "source": [
    "def get_frames(df, frame_size, hop_size):\n",
    "\n",
    "    N_FEATURES = 8\n",
    "\n",
    "    frames = []\n",
    "    labels = []\n",
    "    for i in range(0, len(df) - frame_size, hop_size):\n",
    "        a_x = df['16g_acc_x'].values[i: i + frame_size]\n",
    "        a_y = df['16g_acc_y'].values[i: i + frame_size]\n",
    "        a_z = df['16g_acc_z'].values[i: i + frame_size]\n",
    "        g_x = df['gyroscope_x'].values[i: i + frame_size]\n",
    "        g_y = df['gyroscope_y'].values[i: i + frame_size]\n",
    "        g_z = df['gyroscope_z'].values[i: i + frame_size]\n",
    "        d_a_z = df['acc_z_diff'].values[i: i + frame_size]\n",
    "        d_g_z = df['gyr_z_diff'].values[i: i + frame_size]\n",
    "        \n",
    "        \n",
    "        # Retrieve the most often used label in this segment\n",
    "        label = stats.mode(df['activity_ID'][i: i + frame_size])[0][0]\n",
    "        frames.append([a_x, a_y, a_z,g_x,g_y,g_z,d_a_z,d_g_z])\n",
    "        labels.append(label)\n",
    "\n",
    "    # Bring the segments into a better shape\n",
    "    frames = np.asarray(frames).reshape(-1, N_FEATURES ,frame_size)\n",
    "    labels = np.asarray(labels)\n",
    "\n",
    "    return frames, labels\n",
    "\n"
   ]
  },
  {
   "cell_type": "code",
   "execution_count": 8,
   "metadata": {},
   "outputs": [
    {
     "data": {
      "text/plain": [
       "((6703, 8, 100), (6703,))"
      ]
     },
     "execution_count": 8,
     "metadata": {},
     "output_type": "execute_result"
    }
   ],
   "source": [
    "#segments\n",
    "segments, labels = get_frames(df, frame_size, hop_size)\n",
    "\n",
    "segments.shape, labels.shape"
   ]
  },
  {
   "cell_type": "code",
   "execution_count": 9,
   "metadata": {},
   "outputs": [
    {
     "name": "stdout",
     "output_type": "stream",
     "text": [
      "(6703, 8, 100)\n",
      "(6703,)\n"
     ]
    }
   ],
   "source": [
    "print(np.array(segments).shape)\n",
    "print(np.array(labels).shape)"
   ]
  },
  {
   "cell_type": "code",
   "execution_count": 10,
   "metadata": {},
   "outputs": [],
   "source": [
    "reshaped_segments = np.asarray(segments, dtype= np.float32).reshape(-1, 8, 100)\n",
    "#labels = np.asarray(pd.get_dummies(labels), dtype = np.float32)"
   ]
  },
  {
   "cell_type": "code",
   "execution_count": 11,
   "metadata": {},
   "outputs": [
    {
     "name": "stdout",
     "output_type": "stream",
     "text": [
      "[0 0 0 0 0]\n"
     ]
    }
   ],
   "source": [
    "print(labels[:5])"
   ]
  },
  {
   "cell_type": "code",
   "execution_count": null,
   "metadata": {},
   "outputs": [],
   "source": []
  },
  {
   "cell_type": "code",
   "execution_count": 12,
   "metadata": {},
   "outputs": [],
   "source": [
    "X_train, X_val, y_train, y_val = train_test_split(\n",
    "        reshaped_segments, labels, test_size=0.2, random_state=42)\n",
    "#print(y_test)"
   ]
  },
  {
   "cell_type": "code",
   "execution_count": 13,
   "metadata": {},
   "outputs": [
    {
     "name": "stdout",
     "output_type": "stream",
     "text": [
      "Training set input size: torch.Size([5362, 8, 100])\n",
      "Training set labels size: torch.Size([5362])\n",
      "val set input size: torch.Size([1341, 8, 100])\n",
      "val set labels size: torch.Size([1341])\n"
     ]
    }
   ],
   "source": [
    "import torch\n",
    "# A `numpy array` can easily be made into a `torch.Tensor´\n",
    "torch_train_x = torch.tensor(X_train, dtype=torch.float32)\n",
    "wind_train_y = torch.tensor(y_train, dtype=torch.int64)\n",
    "torch_val_x = torch.tensor(X_val, dtype=torch.float32)\n",
    "wind_val_y = torch.tensor(y_val, dtype=torch.int64)\n",
    "tr_dataset = TensorDataset(torch_train_x, wind_train_y)\n",
    "te_dataset = TensorDataset(torch_val_x, wind_val_y)\n",
    "\n",
    "print('Training set input size: ' + str(torch_train_x.size()))\n",
    "print('Training set labels size: ' + str(wind_train_y.size()))\n",
    "\n",
    "print('val set input size: ' + str(torch_val_x.size()))\n",
    "print('val set labels size: ' + str(wind_val_y.size()))"
   ]
  },
  {
   "cell_type": "code",
   "execution_count": 14,
   "metadata": {},
   "outputs": [
    {
     "name": "stdout",
     "output_type": "stream",
     "text": [
      "Training set input size: torch.Size([5362, 1, 8, 100])\n",
      "Training set labels size: torch.Size([5362])\n",
      "val set input size: torch.Size([1341, 1, 8, 100])\n",
      "val set labels size: torch.Size([1341])\n"
     ]
    }
   ],
   "source": [
    "wind_train_x = torch_train_x.view(torch_train_x.size(0), 1, 8, 100)\n",
    "wind_val_x = torch_val_x.view(torch_val_x.size(0), 1, 8, 100)\n",
    "\n",
    "print('Training set input size: ' + str(wind_train_x.size()))\n",
    "print('Training set labels size: ' + str(wind_train_y.size()))\n",
    "\n",
    "print('val set input size: ' + str(wind_val_x.size()))\n",
    "print('val set labels size: ' + str(wind_val_y.size()))"
   ]
  },
  {
   "cell_type": "code",
   "execution_count": 15,
   "metadata": {},
   "outputs": [],
   "source": [
    "from torch.utils.data import TensorDataset, DataLoader\n",
    "\n",
    "# Specify seed for reproducibility\n",
    "torch.manual_seed(42)\n",
    "\n",
    "batch = 264\n",
    "\n",
    "train_dataset = DataLoader(dataset=TensorDataset(wind_train_x, wind_train_y), batch_size=batch, shuffle=True)\n",
    "val_dataset = DataLoader(dataset=TensorDataset(wind_val_x, wind_val_y), batch_size=wind_val_x.size(0), shuffle=True)\n",
    "#print(train_dataset.size(0))"
   ]
  },
  {
   "cell_type": "code",
   "execution_count": 16,
   "metadata": {},
   "outputs": [],
   "source": [
    "import torch.nn as nn\n",
    "from torch.nn import functional as F\n",
    "\n",
    "class ConvUIL(nn.Module):\n",
    "    \n",
    "    input_size = [8,100]\n",
    "    output_size = 5\n",
    "    input_channels = 1\n",
    "    channels_conv1 = 16\n",
    "    channels_conv2 = 48\n",
    "    kernel_conv1 = [1, 13]\n",
    "    kernel_conv2 = [1, 13]\n",
    "    pool_conv1 = [1, 2]\n",
    "    pool_conv2 = [1, 2]\n",
    "    channels_conv3 = 96\n",
    "    channels_conv4 = 128\n",
    "    channels_conv5 = 264\n",
    "    kernel_conv3 = [1, 11]\n",
    "    kernel_conv4 = [1, 3]\n",
    "    kernel_conv5 = [1, 3]\n",
    "    \n",
    "    \n",
    "    fcl1_size = 256\n",
    "    \n",
    "    def __init__(self):\n",
    "        super(ConvUIL, self).__init__()\n",
    "        \n",
    "        # Define the convolutional layers\n",
    "        self.conv1 = nn.Conv2d(self.input_channels, self.channels_conv1, self.kernel_conv1)\n",
    "        #self.bn1=nn.BatchNorm2d(self.channels_conv1)\n",
    "        self.conv2 = nn.Conv2d(self.channels_conv1, self.channels_conv2, self.kernel_conv2)\n",
    "        #self.bn2=nn.BatchNorm2d(self.channels_conv2)\n",
    "        self.conv3 = nn.Conv2d(self.channels_conv2, self.channels_conv3, self.kernel_conv3)\n",
    "        #self.bn3=nn.BatchNorm2d(self.channels_conv3)       \n",
    "        self.conv4 = nn.Conv2d(self.channels_conv3, self.channels_conv4, self.kernel_conv4)\n",
    "        #self.bn4=nn.BatchNorm2d(self.channels_conv4)       \n",
    "        self.conv5 = nn.Conv2d(self.channels_conv4, self.channels_conv5, self.kernel_conv5)\n",
    "        \n",
    "        # Calculate the convolutional layers output size (stride = 1)\n",
    "        \n",
    "        self.conv_out_size = int(4224)\n",
    "        \n",
    "        \n",
    "        # Define the fully connected layers\n",
    "        self.fcl1 = nn.Linear(self.conv_out_size, self.fcl1_size)\n",
    "        self.fcl2 = nn.Linear(self.fcl1_size, self.output_size)\n",
    "        \n",
    "        #self.fcl3 = nn.Linear(128, self.output_size)\n",
    "        \n",
    "    def forward(self, x):\n",
    "        # Apply convolution 1 and pooling\n",
    "        x = self.conv1(x)\n",
    "        #x = self.bn1(x)\n",
    "        x = F.relu(x)\n",
    "        x = F.max_pool2d(x, self.pool_conv1)\n",
    "        \n",
    "        # Apply convolution 2 and pooling\n",
    "        x = self.conv2(x)\n",
    "        #x = self.bn2(x)\n",
    "        x = F.relu(x)\n",
    "        x = F.max_pool2d(x, self.pool_conv2)\n",
    "        \n",
    "        # Apply convolution 3 \n",
    "        x = self.conv3(x)\n",
    "        #x = self.bn3(x)\n",
    "        x = F.relu(x)\n",
    "        \n",
    "        # Apply convolution 4\n",
    "        x = self.conv4(x)\n",
    "        #x = self.bn4(x)\n",
    "        x = F.relu(x)\n",
    "        \n",
    "        # Apply convolution 5 \n",
    "        x = self.conv5(x)\n",
    "        x = F.relu(x)\n",
    "        \n",
    "        # Reshape x to one dimmension to use as input for the fully connected layers\n",
    "        x = x.view(-1, self.conv_out_size)\n",
    "        \n",
    "        # Fully connected layers\n",
    "        x = self.fcl1(x)\n",
    "        x = F.relu(x)\n",
    "        x = self.fcl2(x)\n",
    "        #x = F.relu(x)\n",
    "        \n",
    "        \n",
    "        #x = self.fcl3(x)\n",
    "        \n",
    "        \n",
    "        return F.log_softmax(x, dim = 1)"
   ]
  },
  {
   "cell_type": "code",
   "execution_count": 17,
   "metadata": {},
   "outputs": [
    {
     "name": "stdout",
     "output_type": "stream",
     "text": [
      "ConvUIL(\n",
      "  (conv1): Conv2d(1, 16, kernel_size=[1, 13], stride=(1, 1))\n",
      "  (conv2): Conv2d(16, 48, kernel_size=[1, 13], stride=(1, 1))\n",
      "  (conv3): Conv2d(48, 96, kernel_size=[1, 11], stride=(1, 1))\n",
      "  (conv4): Conv2d(96, 128, kernel_size=[1, 3], stride=(1, 1))\n",
      "  (conv5): Conv2d(128, 264, kernel_size=[1, 3], stride=(1, 1))\n",
      "  (fcl1): Linear(in_features=4224, out_features=256, bias=True)\n",
      "  (fcl2): Linear(in_features=256, out_features=5, bias=True)\n",
      ")\n"
     ]
    }
   ],
   "source": [
    "convUIL = ConvUIL()\n",
    "print(convUIL)"
   ]
  },
  {
   "cell_type": "code",
   "execution_count": 18,
   "metadata": {},
   "outputs": [
    {
     "name": "stdout",
     "output_type": "stream",
     "text": [
      "torch.Size([16, 1, 1, 13])\n",
      "torch.Size([16])\n",
      "torch.Size([48, 16, 1, 13])\n",
      "torch.Size([48])\n",
      "torch.Size([96, 48, 1, 11])\n",
      "torch.Size([96])\n",
      "torch.Size([128, 96, 1, 3])\n",
      "torch.Size([128])\n",
      "torch.Size([264, 128, 1, 3])\n",
      "torch.Size([264])\n",
      "torch.Size([256, 4224])\n",
      "torch.Size([256])\n",
      "torch.Size([5, 256])\n",
      "torch.Size([5])\n"
     ]
    }
   ],
   "source": [
    "for param in convUIL.parameters():\n",
    "    print(param.size())"
   ]
  },
  {
   "cell_type": "code",
   "execution_count": 19,
   "metadata": {},
   "outputs": [],
   "source": [
    "from torch import optim\n",
    "criterion = nn.NLLLoss()\n",
    "optimizer = optim.Adam(convUIL.parameters(), lr=0.001)"
   ]
  },
  {
   "cell_type": "raw",
   "metadata": {
    "scrolled": true
   },
   "source": []
  },
  {
   "cell_type": "code",
   "execution_count": 20,
   "metadata": {},
   "outputs": [
    {
     "name": "stdout",
     "output_type": "stream",
     "text": [
      "Epoch: 0 Train Loss: tensor(1.2472) Train Accuracy: 0.5048489369638195 val Loss: tensor(0.9995) Validation Accuracy: 0.680089485458613\n",
      "Epoch: 1 Train Loss: tensor(0.8856) Train Accuracy: 0.6887355464378964 val Loss: tensor(0.7459) Validation Accuracy: 0.7121551081282624\n",
      "Epoch: 2 Train Loss: tensor(0.7217) Train Accuracy: 0.726408056695263 val Loss: tensor(0.6975) Validation Accuracy: 0.7337807606263982\n",
      "Epoch: 3 Train Loss: tensor(0.6454) Train Accuracy: 0.741514360313316 val Loss: tensor(0.6445) Validation Accuracy: 0.7419835943325876\n",
      "Epoch: 4 Train Loss: tensor(0.6099) Train Accuracy: 0.7508392390898918 val Loss: tensor(0.6347) Validation Accuracy: 0.7583892617449665\n",
      "Epoch: 5 Train Loss: tensor(0.5814) Train Accuracy: 0.7702349869451697 val Loss: tensor(0.5774) Validation Accuracy: 0.7718120805369127\n",
      "Epoch: 6 Train Loss: tensor(0.5705) Train Accuracy: 0.7702349869451697 val Loss: tensor(0.5669) Validation Accuracy: 0.7740492170022372\n",
      "Epoch: 7 Train Loss: tensor(0.5471) Train Accuracy: 0.7853412905632227 val Loss: tensor(0.5489) Validation Accuracy: 0.7807606263982103\n",
      "Epoch: 8 Train Loss: tensor(0.5013) Train Accuracy: 0.8066020141738157 val Loss: tensor(0.5328) Validation Accuracy: 0.7956748695003728\n",
      "Epoch: 9 Train Loss: tensor(0.4927) Train Accuracy: 0.8105184632599777 val Loss: tensor(0.5216) Validation Accuracy: 0.8105891126025354\n",
      "Epoch: 10 Train Loss: tensor(0.4737) Train Accuracy: 0.8177918687057069 val Loss: tensor(0.5642) Validation Accuracy: 0.785234899328859\n",
      "Epoch: 11 Train Loss: tensor(0.4801) Train Accuracy: 0.8135024244684819 val Loss: tensor(0.4992) Validation Accuracy: 0.808351976137211\n",
      "Epoch: 12 Train Loss: tensor(0.4609) Train Accuracy: 0.824692279000373 val Loss: tensor(0.5150) Validation Accuracy: 0.8128262490678598\n",
      "Epoch: 13 Train Loss: tensor(0.4409) Train Accuracy: 0.8312196941439761 val Loss: tensor(0.4926) Validation Accuracy: 0.8173005219985086\n",
      "Epoch: 14 Train Loss: tensor(0.4255) Train Accuracy: 0.8364416262588587 val Loss: tensor(0.5012) Validation Accuracy: 0.808351976137211\n",
      "Epoch: 15 Train Loss: tensor(0.4147) Train Accuracy: 0.8418500559492726 val Loss: tensor(0.4707) Validation Accuracy: 0.8187919463087249\n",
      "Epoch: 16 Train Loss: tensor(0.4065) Train Accuracy: 0.8442745244311824 val Loss: tensor(0.5141) Validation Accuracy: 0.8053691275167785\n",
      "Epoch: 17 Train Loss: tensor(0.4050) Train Accuracy: 0.8446475195822454 val Loss: tensor(0.4681) Validation Accuracy: 0.8210290827740492\n",
      "Epoch: 18 Train Loss: tensor(0.3666) Train Accuracy: 0.8567698619917941 val Loss: tensor(0.4530) Validation Accuracy: 0.8225205070842655\n",
      "Epoch: 19 Train Loss: tensor(0.3585) Train Accuracy: 0.8649757553151809 val Loss: tensor(0.4633) Validation Accuracy: 0.8217747949291574\n",
      "Epoch: 20 Train Loss: tensor(0.3460) Train Accuracy: 0.8668407310704961 val Loss: tensor(0.5134) Validation Accuracy: 0.8180462341536167\n",
      "Epoch: 21 Train Loss: tensor(0.3620) Train Accuracy: 0.8632972771353973 val Loss: tensor(0.4912) Validation Accuracy: 0.8150633855331841\n",
      "Epoch: 22 Train Loss: tensor(0.3215) Train Accuracy: 0.8793360686311078 val Loss: tensor(0.4929) Validation Accuracy: 0.8240119313944817\n",
      "Epoch: 23 Train Loss: tensor(0.3284) Train Accuracy: 0.8728086534875047 val Loss: tensor(0.4959) Validation Accuracy: 0.8120805369127517\n",
      "Epoch: 24 Train Loss: tensor(0.3037) Train Accuracy: 0.8856769861991795 val Loss: tensor(0.5249) Validation Accuracy: 0.8098434004474273\n",
      "Epoch: 25 Train Loss: tensor(0.2719) Train Accuracy: 0.8968668407310705 val Loss: tensor(0.5204) Validation Accuracy: 0.8292319164802386\n",
      "Epoch: 26 Train Loss: tensor(0.2663) Train Accuracy: 0.8972398358821335 val Loss: tensor(0.5348) Validation Accuracy: 0.8068605518269948\n",
      "Epoch: 27 Train Loss: tensor(0.2688) Train Accuracy: 0.8981723237597912 val Loss: tensor(0.5901) Validation Accuracy: 0.8098434004474273\n",
      "Epoch: 28 Train Loss: tensor(0.2620) Train Accuracy: 0.8989183140619172 val Loss: tensor(0.5639) Validation Accuracy: 0.8173005219985086\n",
      "Epoch: 29 Train Loss: tensor(0.2349) Train Accuracy: 0.9112271540469974 val Loss: tensor(0.5691) Validation Accuracy: 0.8113348247576435\n"
     ]
    }
   ],
   "source": [
    "from torch.autograd import Variable\n",
    "#Model training and saving best model\n",
    "epochs = 30\n",
    "best_accuracy=0.0\n",
    "train_count = wind_train_y.size(0)\n",
    "val_count = wind_val_y.size(0)\n",
    "\n",
    "best_accuracy=0.0\n",
    "train_loss_list = []\n",
    "train_acc_list = []\n",
    "val_loss_list = []\n",
    "val_acc_list = []\n",
    "\n",
    "for epoch in range(epochs):\n",
    "    \n",
    "    #Evaluation and training of dataset\n",
    "    convUIL.train()\n",
    "    train_accuracy=0.0\n",
    "    train_loss=0.0\n",
    "    val_loss=0.0\n",
    "    \n",
    "    for observations,labels in train_dataset:\n",
    "        observations = Variable(observations)\n",
    "        labels = Variable(labels)\n",
    "            \n",
    "        optimizer.zero_grad()\n",
    "        \n",
    "        outputs=convUIL(observations)\n",
    "        loss=criterion(outputs,labels)\n",
    "        loss.backward()\n",
    "        optimizer.step()\n",
    "        \n",
    "        train_loss+= loss.data*observations.size(0)\n",
    "        _,prediction=torch.max(outputs.data,1)\n",
    "        \n",
    "        train_accuracy+=int(torch.sum(prediction==labels.data))\n",
    "        \n",
    "    train_accuracy=train_accuracy/train_count\n",
    "    train_loss=train_loss/train_count\n",
    " # Evaluation on validation dataset\n",
    "    convUIL.eval()\n",
    "    \n",
    "    val_accuracy=0.0\n",
    "    for observations,labels in val_dataset:\n",
    "        observations = Variable(observations)\n",
    "        labels = Variable(labels)\n",
    "            \n",
    "        outputs=convUIL(observations)\n",
    "        v_loss=criterion(outputs,labels)\n",
    "        #v_loss.backward()\n",
    "        #optimizer.step()\n",
    "        val_loss+= v_loss.data*observations.size(0)\n",
    "        _,prediction=torch.max(outputs.data,1)\n",
    "        val_accuracy+=int(torch.sum(prediction==labels.data))\n",
    "        \n",
    "        \n",
    "        val_accuracy = val_accuracy/val_count\n",
    "        val_loss=val_loss/val_count\n",
    "        train_loss_list.append(train_loss)\n",
    "        train_acc_list.append(train_accuracy)\n",
    "        val_loss_list.append(val_loss)\n",
    "        val_acc_list.append(val_accuracy)\n",
    "        if val_accuracy > best_accuracy:\n",
    "            torch.save(convUIL.state_dict(),'best_checkpoint.model')\n",
    "            best_accuracy=val_accuracy\n",
    "    \n",
    "        print('Epoch: '+str(epoch)+' Train Loss: '+str(train_loss)+' Train Accuracy: '+str(train_accuracy)+' val Loss: '+str(val_loss)+' Validation Accuracy: '+str(val_accuracy))\n",
    "    "
   ]
  },
  {
   "cell_type": "code",
   "execution_count": 21,
   "metadata": {},
   "outputs": [
    {
     "data": {
      "image/png": "[encoded data removed]",
      "text/plain": [
       "<Figure size 432x288 with 1 Axes>"
      ]
     },
     "metadata": {
      "needs_background": "light"
     },
     "output_type": "display_data"
    }
   ],
   "source": [
    "# YOUR CODE HERE\n",
    "plt.plot(train_loss_list, label='train')\n",
    "plt.plot(val_loss_list,label='Validation')\n",
    "plt.xlabel('Epoch')\n",
    "plt.ylabel('Loss')\n",
    "plt.title('Training and the validation loss')\n",
    "plt.legend()\n",
    "plt.show()"
   ]
  },
  {
   "cell_type": "code",
   "execution_count": 22,
   "metadata": {},
   "outputs": [
    {
     "data": {
      "image/png": "[encoded data removed]",
      "text/plain": [
       "<Figure size 432x288 with 1 Axes>"
      ]
     },
     "metadata": {
      "needs_background": "light"
     },
     "output_type": "display_data"
    }
   ],
   "source": [
    "# YOUR CODE HERE\n",
    "plt.plot(train_acc_list, label='train')\n",
    "plt.plot(val_acc_list,label='Validation')\n",
    "plt.xlabel('Epoch')\n",
    "plt.ylabel('Accuracy')\n",
    "plt.title('Training and the validation accuracy')\n",
    "plt.legend()\n",
    "plt.show()"
   ]
  },
  {
   "cell_type": "code",
   "execution_count": 23,
   "metadata": {},
   "outputs": [
    {
     "data": {
      "text/html": [
       "<div>\n",
       "<style scoped>\n",
       "    .dataframe tbody tr th:only-of-type {\n",
       "        vertical-align: middle;\n",
       "    }\n",
       "\n",
       "    .dataframe tbody tr th {\n",
       "        vertical-align: top;\n",
       "    }\n",
       "\n",
       "    .dataframe thead th {\n",
       "        text-align: right;\n",
       "    }\n",
       "</style>\n",
       "<table border=\"1\" class=\"dataframe\">\n",
       "  <thead>\n",
       "    <tr style=\"text-align: right;\">\n",
       "      <th></th>\n",
       "      <th>activity_ID</th>\n",
       "      <th>16g_acc_x</th>\n",
       "      <th>16g_acc_y</th>\n",
       "      <th>16g_acc_z</th>\n",
       "      <th>gyroscope_x</th>\n",
       "      <th>gyroscope_y</th>\n",
       "      <th>gyroscope_z</th>\n",
       "    </tr>\n",
       "  </thead>\n",
       "  <tbody>\n",
       "    <tr>\n",
       "      <th>0</th>\n",
       "      <td>0</td>\n",
       "      <td>-0.145869</td>\n",
       "      <td>-2.239288</td>\n",
       "      <td>1.247878</td>\n",
       "      <td>-0.001670</td>\n",
       "      <td>0.000314</td>\n",
       "      <td>0.000951</td>\n",
       "    </tr>\n",
       "    <tr>\n",
       "      <th>1</th>\n",
       "      <td>0</td>\n",
       "      <td>0.223255</td>\n",
       "      <td>3.416402</td>\n",
       "      <td>-1.883032</td>\n",
       "      <td>0.015635</td>\n",
       "      <td>-0.005920</td>\n",
       "      <td>-0.003254</td>\n",
       "    </tr>\n",
       "    <tr>\n",
       "      <th>2</th>\n",
       "      <td>0</td>\n",
       "      <td>0.066204</td>\n",
       "      <td>1.312503</td>\n",
       "      <td>-0.700944</td>\n",
       "      <td>-0.025306</td>\n",
       "      <td>0.012719</td>\n",
       "      <td>0.001809</td>\n",
       "    </tr>\n",
       "    <tr>\n",
       "      <th>3</th>\n",
       "      <td>0</td>\n",
       "      <td>-0.094050</td>\n",
       "      <td>-1.236104</td>\n",
       "      <td>0.528362</td>\n",
       "      <td>-0.001580</td>\n",
       "      <td>0.007566</td>\n",
       "      <td>0.003159</td>\n",
       "    </tr>\n",
       "    <tr>\n",
       "      <th>4</th>\n",
       "      <td>0</td>\n",
       "      <td>0.012696</td>\n",
       "      <td>-1.822008</td>\n",
       "      <td>1.074035</td>\n",
       "      <td>0.012129</td>\n",
       "      <td>-0.024133</td>\n",
       "      <td>-0.002446</td>\n",
       "    </tr>\n",
       "    <tr>\n",
       "      <th>5</th>\n",
       "      <td>0</td>\n",
       "      <td>-0.155430</td>\n",
       "      <td>-1.145991</td>\n",
       "      <td>0.715581</td>\n",
       "      <td>0.010832</td>\n",
       "      <td>-0.018924</td>\n",
       "      <td>-0.002375</td>\n",
       "    </tr>\n",
       "    <tr>\n",
       "      <th>6</th>\n",
       "      <td>0</td>\n",
       "      <td>-0.057844</td>\n",
       "      <td>0.218567</td>\n",
       "      <td>-0.086060</td>\n",
       "      <td>-0.003126</td>\n",
       "      <td>0.020177</td>\n",
       "      <td>-0.000545</td>\n",
       "    </tr>\n",
       "    <tr>\n",
       "      <th>7</th>\n",
       "      <td>0</td>\n",
       "      <td>0.111424</td>\n",
       "      <td>0.909484</td>\n",
       "      <td>-0.507324</td>\n",
       "      <td>0.002921</td>\n",
       "      <td>0.036269</td>\n",
       "      <td>0.016653</td>\n",
       "    </tr>\n",
       "    <tr>\n",
       "      <th>8</th>\n",
       "      <td>0</td>\n",
       "      <td>-0.008949</td>\n",
       "      <td>0.942309</td>\n",
       "      <td>-0.592906</td>\n",
       "      <td>-0.017081</td>\n",
       "      <td>-0.009115</td>\n",
       "      <td>-0.019073</td>\n",
       "    </tr>\n",
       "    <tr>\n",
       "      <th>9</th>\n",
       "      <td>0</td>\n",
       "      <td>0.082863</td>\n",
       "      <td>0.494852</td>\n",
       "      <td>-0.337328</td>\n",
       "      <td>-0.004265</td>\n",
       "      <td>-0.013408</td>\n",
       "      <td>-0.007959</td>\n",
       "    </tr>\n",
       "  </tbody>\n",
       "</table>\n",
       "</div>"
      ],
      "text/plain": [
       "   activity_ID  16g_acc_x  16g_acc_y  16g_acc_z  gyroscope_x  gyroscope_y  \\\n",
       "0            0  -0.145869  -2.239288   1.247878    -0.001670     0.000314   \n",
       "1            0   0.223255   3.416402  -1.883032     0.015635    -0.005920   \n",
       "2            0   0.066204   1.312503  -0.700944    -0.025306     0.012719   \n",
       "3            0  -0.094050  -1.236104   0.528362    -0.001580     0.007566   \n",
       "4            0   0.012696  -1.822008   1.074035     0.012129    -0.024133   \n",
       "5            0  -0.155430  -1.145991   0.715581     0.010832    -0.018924   \n",
       "6            0  -0.057844   0.218567  -0.086060    -0.003126     0.020177   \n",
       "7            0   0.111424   0.909484  -0.507324     0.002921     0.036269   \n",
       "8            0  -0.008949   0.942309  -0.592906    -0.017081    -0.009115   \n",
       "9            0   0.082863   0.494852  -0.337328    -0.004265    -0.013408   \n",
       "\n",
       "   gyroscope_z  \n",
       "0     0.000951  \n",
       "1    -0.003254  \n",
       "2     0.001809  \n",
       "3     0.003159  \n",
       "4    -0.002446  \n",
       "5    -0.002375  \n",
       "6    -0.000545  \n",
       "7     0.016653  \n",
       "8    -0.019073  \n",
       "9    -0.007959  "
      ]
     },
     "execution_count": 23,
     "metadata": {},
     "output_type": "execute_result"
    }
   ],
   "source": [
    "test_df = pd.read_csv(\"testsubject8.csv\")\n",
    "test_df.drop(test_df.columns[[0, 1,6,7,8]], axis = 1, inplace = True) \n",
    "test_df.head(10)"
   ]
  },
  {
   "cell_type": "code",
   "execution_count": 24,
   "metadata": {},
   "outputs": [
    {
     "name": "stdout",
     "output_type": "stream",
     "text": [
      "(93860, 9)\n"
     ]
    },
    {
     "data": {
      "text/html": [
       "<div>\n",
       "<style scoped>\n",
       "    .dataframe tbody tr th:only-of-type {\n",
       "        vertical-align: middle;\n",
       "    }\n",
       "\n",
       "    .dataframe tbody tr th {\n",
       "        vertical-align: top;\n",
       "    }\n",
       "\n",
       "    .dataframe thead th {\n",
       "        text-align: right;\n",
       "    }\n",
       "</style>\n",
       "<table border=\"1\" class=\"dataframe\">\n",
       "  <thead>\n",
       "    <tr style=\"text-align: right;\">\n",
       "      <th></th>\n",
       "      <th>activity_ID</th>\n",
       "      <th>16g_acc_x</th>\n",
       "      <th>16g_acc_y</th>\n",
       "      <th>16g_acc_z</th>\n",
       "      <th>gyroscope_x</th>\n",
       "      <th>gyroscope_y</th>\n",
       "      <th>gyroscope_z</th>\n",
       "      <th>acc_z_diff</th>\n",
       "      <th>gyr_z_diff</th>\n",
       "    </tr>\n",
       "  </thead>\n",
       "  <tbody>\n",
       "    <tr>\n",
       "      <th>0</th>\n",
       "      <td>0</td>\n",
       "      <td>-0.145869</td>\n",
       "      <td>-2.239288</td>\n",
       "      <td>1.247878</td>\n",
       "      <td>-0.001670</td>\n",
       "      <td>0.000314</td>\n",
       "      <td>0.000951</td>\n",
       "      <td>3.130909</td>\n",
       "      <td>0.004205</td>\n",
       "    </tr>\n",
       "    <tr>\n",
       "      <th>1</th>\n",
       "      <td>0</td>\n",
       "      <td>0.223255</td>\n",
       "      <td>3.416402</td>\n",
       "      <td>-1.883032</td>\n",
       "      <td>0.015635</td>\n",
       "      <td>-0.005920</td>\n",
       "      <td>-0.003254</td>\n",
       "      <td>-1.182088</td>\n",
       "      <td>-0.005063</td>\n",
       "    </tr>\n",
       "    <tr>\n",
       "      <th>2</th>\n",
       "      <td>0</td>\n",
       "      <td>0.066204</td>\n",
       "      <td>1.312503</td>\n",
       "      <td>-0.700944</td>\n",
       "      <td>-0.025306</td>\n",
       "      <td>0.012719</td>\n",
       "      <td>0.001809</td>\n",
       "      <td>-1.229305</td>\n",
       "      <td>-0.001350</td>\n",
       "    </tr>\n",
       "    <tr>\n",
       "      <th>3</th>\n",
       "      <td>0</td>\n",
       "      <td>-0.094050</td>\n",
       "      <td>-1.236104</td>\n",
       "      <td>0.528362</td>\n",
       "      <td>-0.001580</td>\n",
       "      <td>0.007566</td>\n",
       "      <td>0.003159</td>\n",
       "      <td>-0.545673</td>\n",
       "      <td>0.005605</td>\n",
       "    </tr>\n",
       "    <tr>\n",
       "      <th>4</th>\n",
       "      <td>0</td>\n",
       "      <td>0.012696</td>\n",
       "      <td>-1.822008</td>\n",
       "      <td>1.074035</td>\n",
       "      <td>0.012129</td>\n",
       "      <td>-0.024133</td>\n",
       "      <td>-0.002446</td>\n",
       "      <td>0.358453</td>\n",
       "      <td>-0.000070</td>\n",
       "    </tr>\n",
       "  </tbody>\n",
       "</table>\n",
       "</div>"
      ],
      "text/plain": [
       "   activity_ID  16g_acc_x  16g_acc_y  16g_acc_z  gyroscope_x  gyroscope_y  \\\n",
       "0            0  -0.145869  -2.239288   1.247878    -0.001670     0.000314   \n",
       "1            0   0.223255   3.416402  -1.883032     0.015635    -0.005920   \n",
       "2            0   0.066204   1.312503  -0.700944    -0.025306     0.012719   \n",
       "3            0  -0.094050  -1.236104   0.528362    -0.001580     0.007566   \n",
       "4            0   0.012696  -1.822008   1.074035     0.012129    -0.024133   \n",
       "\n",
       "   gyroscope_z  acc_z_diff  gyr_z_diff  \n",
       "0     0.000951    3.130909    0.004205  \n",
       "1    -0.003254   -1.182088   -0.005063  \n",
       "2     0.001809   -1.229305   -0.001350  \n",
       "3     0.003159   -0.545673    0.005605  \n",
       "4    -0.002446    0.358453   -0.000070  "
      ]
     },
     "execution_count": 24,
     "metadata": {},
     "output_type": "execute_result"
    }
   ],
   "source": [
    "test_df['acc_z_diff'] = test_df['16g_acc_z']-test_df['16g_acc_z'].shift(-1)\n",
    "test_df['gyr_z_diff'] = test_df['gyroscope_z']-test_df['gyroscope_z'].shift(-1)\n",
    "print(test_df.shape)\n",
    "test_df.head()"
   ]
  },
  {
   "cell_type": "code",
   "execution_count": 25,
   "metadata": {},
   "outputs": [],
   "source": [
    "test_df = remove_10_seconds(test_df)"
   ]
  },
  {
   "cell_type": "code",
   "execution_count": 26,
   "metadata": {},
   "outputs": [],
   "source": [
    "Fs = 50\n",
    "frame_size = Fs*2 # 200\n",
    "hop_size = Fs # 100"
   ]
  },
  {
   "cell_type": "code",
   "execution_count": 27,
   "metadata": {},
   "outputs": [
    {
     "data": {
      "text/plain": [
       "((1596, 8, 100), (1596,))"
      ]
     },
     "execution_count": 27,
     "metadata": {},
     "output_type": "execute_result"
    }
   ],
   "source": [
    "X_test, Y_test = get_frames(test_df, frame_size, hop_size)\n",
    "\n",
    "X_test.shape, Y_test.shape"
   ]
  },
  {
   "cell_type": "code",
   "execution_count": 28,
   "metadata": {},
   "outputs": [
    {
     "data": {
      "text/plain": [
       "(1596, 8, 100)"
      ]
     },
     "execution_count": 28,
     "metadata": {},
     "output_type": "execute_result"
    }
   ],
   "source": [
    "X_test = np.asarray(X_test, dtype= np.float32).reshape(-1, 8, 100)\n",
    "X_test.shape"
   ]
  },
  {
   "cell_type": "code",
   "execution_count": 29,
   "metadata": {},
   "outputs": [
    {
     "name": "stdout",
     "output_type": "stream",
     "text": [
      "Test set input size: torch.Size([1596, 8, 100])\n",
      "Test set labels size: torch.Size([1596])\n"
     ]
    }
   ],
   "source": [
    "torch_test_x = torch.tensor(X_test, dtype=torch.float32)\n",
    "torch_test_y = torch.tensor(Y_test, dtype=torch.int64)\n",
    "test_dataset = TensorDataset(torch_test_x, torch_test_y)\n",
    "\n",
    "print('Test set input size: ' + str(torch_test_x.size()))\n",
    "print('Test set labels size: ' + str(torch_test_y.size()))\n"
   ]
  },
  {
   "cell_type": "code",
   "execution_count": 30,
   "metadata": {},
   "outputs": [
    {
     "name": "stdout",
     "output_type": "stream",
     "text": [
      "Test set input size: torch.Size([1596, 1, 8, 100])\n"
     ]
    }
   ],
   "source": [
    "test_train_x = torch_test_x.view(torch_test_x.size(0), 1, 8, 100)\n",
    "\n",
    "print('Test set input size: ' + str(test_train_x.size()))\n"
   ]
  },
  {
   "cell_type": "code",
   "execution_count": 31,
   "metadata": {},
   "outputs": [],
   "source": [
    "batch = 264\n",
    "\n",
    "test_dataset = DataLoader(dataset=TensorDataset(test_train_x, torch_test_y), batch_size=batch, shuffle=True)\n"
   ]
  },
  {
   "cell_type": "markdown",
   "metadata": {},
   "source": [
    "# Last model"
   ]
  },
  {
   "cell_type": "code",
   "execution_count": 32,
   "metadata": {},
   "outputs": [
    {
     "name": "stdout",
     "output_type": "stream",
     "text": [
      "1596\n",
      "Test Accuracy with model: 0.6779\n"
     ]
    }
   ],
   "source": [
    "# Test the model on the test data\n",
    "loss = 0\n",
    "correct = 0\n",
    "total = torch_test_y.size(0)\n",
    "predictions=[]\n",
    "print(total)\n",
    "for observations, labels in test_dataset:\n",
    "    observations = Variable(observations)\n",
    "    labels = Variable(labels)\n",
    "        \n",
    "    # Forward pass\n",
    "    outputs = convUIL(observations)\n",
    "    _, predicted = torch.max(outputs.data, 1)\n",
    "    predictions.append(predicted.numpy())\n",
    "    correct += int((predicted == labels).sum())\n",
    "              \n",
    "accuracy = correct / total\n",
    "print('Test Accuracy with model: %.4f' % (accuracy))\n",
    "                     \n"
   ]
  },
  {
   "cell_type": "code",
   "execution_count": 33,
   "metadata": {},
   "outputs": [
    {
     "data": {
      "image/png": "[encoded data removed]",
      "text/plain": [
       "<Figure size 1152x1008 with 2 Axes>"
      ]
     },
     "metadata": {
      "needs_background": "light"
     },
     "output_type": "display_data"
    }
   ],
   "source": [
    "predicted_output=[]\n",
    "predicted_output = [item for sublist in predictions for item in sublist]\n",
    "import sklearn.metrics as metrics\n",
    "LABELS = ['standing', 'walking', 'running', 'walking_upstairs', 'walking_downstairs']\n",
    "actual_output = Y_test\n",
    "confusion_matrix = metrics.confusion_matrix(actual_output, predicted_output)\n",
    "plt.figure(figsize=(16, 14))\n",
    "sns.heatmap(confusion_matrix, xticklabels=LABELS, yticklabels=LABELS, annot=True, fmt=\"d\");\n",
    "plt.title(\"Confusion matrix\")\n",
    "plt.ylabel('True label')\n",
    "plt.xlabel('Predicted label')\n",
    "plt.show();\n"
   ]
  },
  {
   "cell_type": "markdown",
   "metadata": {},
   "source": [
    "# Best model"
   ]
  },
  {
   "cell_type": "code",
   "execution_count": 34,
   "metadata": {},
   "outputs": [
    {
     "data": {
      "text/plain": [
       "ConvUIL(\n",
       "  (conv1): Conv2d(1, 16, kernel_size=[1, 13], stride=(1, 1))\n",
       "  (conv2): Conv2d(16, 48, kernel_size=[1, 13], stride=(1, 1))\n",
       "  (conv3): Conv2d(48, 96, kernel_size=[1, 11], stride=(1, 1))\n",
       "  (conv4): Conv2d(96, 128, kernel_size=[1, 3], stride=(1, 1))\n",
       "  (conv5): Conv2d(128, 264, kernel_size=[1, 3], stride=(1, 1))\n",
       "  (fcl1): Linear(in_features=4224, out_features=256, bias=True)\n",
       "  (fcl2): Linear(in_features=256, out_features=5, bias=True)\n",
       ")"
      ]
     },
     "execution_count": 34,
     "metadata": {},
     "output_type": "execute_result"
    }
   ],
   "source": [
    "#Loading best model\n",
    "best_model = ConvUIL()\n",
    "best_model.load_state_dict(torch.load('best_checkpoint.model'))\n",
    "best_model.eval()"
   ]
  },
  {
   "cell_type": "code",
   "execution_count": 35,
   "metadata": {},
   "outputs": [
    {
     "name": "stdout",
     "output_type": "stream",
     "text": [
      "Test Accuracy with best model: 0.6353\n"
     ]
    }
   ],
   "source": [
    "# Test the model on the test subject(Subject 8)for best model\n",
    "loss = 0\n",
    "correct = 0\n",
    "total = torch_test_y.size(0)\n",
    "predictions=[]\n",
    "\n",
    "for observations, labels in test_dataset:\n",
    "    observations = Variable(observations)\n",
    "    labels = Variable(labels)\n",
    "        \n",
    "    # Forward pass\n",
    "    outputs = best_model(observations)\n",
    "    _, predicted = torch.max(outputs.data, 1)\n",
    "    predictions.append(predicted.numpy())\n",
    "    correct += int((predicted == labels).sum())\n",
    "              \n",
    "accuracy = correct / total\n",
    "print('Test Accuracy with best model: %.4f' % (accuracy))"
   ]
  },
  {
   "cell_type": "code",
   "execution_count": 36,
   "metadata": {},
   "outputs": [],
   "source": [
    "predicted_output=[]\n",
    "predicted_output = [item for sublist in predictions for item in sublist]"
   ]
  },
  {
   "cell_type": "code",
   "execution_count": 37,
   "metadata": {},
   "outputs": [],
   "source": [
    "import sklearn.metrics as metrics"
   ]
  },
  {
   "cell_type": "code",
   "execution_count": 38,
   "metadata": {},
   "outputs": [],
   "source": [
    "LABELS = ['standing', 'walking', 'running', 'walking_upstairs', 'walking_downstairs']\n",
    "actual_output = Y_test\n",
    "confusion_matrix = metrics.confusion_matrix(actual_output, predicted_output)"
   ]
  },
  {
   "cell_type": "code",
   "execution_count": 39,
   "metadata": {},
   "outputs": [
    {
     "data": {
      "image/png": "[encoded data removed]",
      "text/plain": [
       "<Figure size 1152x1008 with 2 Axes>"
      ]
     },
     "metadata": {
      "needs_background": "light"
     },
     "output_type": "display_data"
    }
   ],
   "source": [
    "plt.figure(figsize=(16, 14))\n",
    "sns.heatmap(confusion_matrix, xticklabels=LABELS, yticklabels=LABELS, annot=True, fmt=\"d\");\n",
    "plt.title(\"Confusion matrix\")\n",
    "plt.ylabel('True label')\n",
    "plt.xlabel('Predicted label')\n",
    "plt.show();"
   ]
  },
  {
   "cell_type": "markdown",
   "metadata": {},
   "source": [
    "# Model 77"
   ]
  },
  {
   "cell_type": "code",
   "execution_count": 40,
   "metadata": {},
   "outputs": [
    {
     "data": {
      "text/plain": [
       "ConvUIL(\n",
       "  (conv1): Conv2d(1, 16, kernel_size=[1, 13], stride=(1, 1))\n",
       "  (conv2): Conv2d(16, 48, kernel_size=[1, 13], stride=(1, 1))\n",
       "  (conv3): Conv2d(48, 96, kernel_size=[1, 11], stride=(1, 1))\n",
       "  (conv4): Conv2d(96, 128, kernel_size=[1, 3], stride=(1, 1))\n",
       "  (conv5): Conv2d(128, 264, kernel_size=[1, 3], stride=(1, 1))\n",
       "  (fcl1): Linear(in_features=4224, out_features=256, bias=True)\n",
       "  (fcl2): Linear(in_features=256, out_features=5, bias=True)\n",
       ")"
      ]
     },
     "execution_count": 40,
     "metadata": {},
     "output_type": "execute_result"
    }
   ],
   "source": [
    "#Loading best model\n",
    "best_model = ConvUIL()\n",
    "best_model.load_state_dict(torch.load('best_checkpoint_77.model'))\n",
    "best_model.eval()"
   ]
  },
  {
   "cell_type": "code",
   "execution_count": 41,
   "metadata": {},
   "outputs": [
    {
     "name": "stdout",
     "output_type": "stream",
     "text": [
      "Test Accuracy with best model: 0.7751\n"
     ]
    }
   ],
   "source": [
    "# Test the best_checkpoint_77 on the test subject(Subject 8)\n",
    "loss = 0\n",
    "correct = 0\n",
    "total = torch_test_y.size(0)\n",
    "predictions=[]\n",
    "\n",
    "for observations, labels in test_dataset:\n",
    "    observations = Variable(observations)\n",
    "    labels = Variable(labels)\n",
    "        \n",
    "    # Forward pass\n",
    "    outputs = best_model(observations)\n",
    "    _, predicted = torch.max(outputs.data, 1)\n",
    "    predictions.append(predicted.numpy())\n",
    "    correct += int((predicted == labels).sum())\n",
    "              \n",
    "accuracy = correct / total\n",
    "print('Test Accuracy with best model: %.4f' % (accuracy))"
   ]
  },
  {
   "cell_type": "code",
   "execution_count": 42,
   "metadata": {},
   "outputs": [
    {
     "data": {
      "image/png": "[encoded data removed]",
      "text/plain": [
       "<Figure size 1152x1008 with 2 Axes>"
      ]
     },
     "metadata": {
      "needs_background": "light"
     },
     "output_type": "display_data"
    }
   ],
   "source": [
    "predicted_output = []\n",
    "predicted_output = [item for sublist in predictions for item in sublist]\n",
    "#import sklearn.metrics as metrics\n",
    "LABELS = ['standing', 'walking', 'running', 'walking_upstairs', 'walking_downstairs']\n",
    "actual_output = Y_test\n",
    "confusion_matrix = metrics.confusion_matrix(actual_output, predicted_output)\n",
    "plt.figure(figsize=(16, 14))\n",
    "sns.heatmap(confusion_matrix, xticklabels=LABELS, yticklabels=LABELS, annot=True, fmt=\"d\");\n",
    "plt.title(\"Confusion matrix\")\n",
    "plt.ylabel('True label')\n",
    "plt.xlabel('Predicted label')\n",
    "plt.show();"
   ]
  },
  {
   "cell_type": "markdown",
   "metadata": {
    "scrolled": true
   },
   "source": [
    "# Model 75"
   ]
  },
  {
   "cell_type": "code",
   "execution_count": 43,
   "metadata": {},
   "outputs": [
    {
     "data": {
      "text/plain": [
       "ConvUIL(\n",
       "  (conv1): Conv2d(1, 16, kernel_size=[1, 13], stride=(1, 1))\n",
       "  (conv2): Conv2d(16, 48, kernel_size=[1, 13], stride=(1, 1))\n",
       "  (conv3): Conv2d(48, 96, kernel_size=[1, 11], stride=(1, 1))\n",
       "  (conv4): Conv2d(96, 128, kernel_size=[1, 3], stride=(1, 1))\n",
       "  (conv5): Conv2d(128, 264, kernel_size=[1, 3], stride=(1, 1))\n",
       "  (fcl1): Linear(in_features=4224, out_features=256, bias=True)\n",
       "  (fcl2): Linear(in_features=256, out_features=5, bias=True)\n",
       ")"
      ]
     },
     "execution_count": 43,
     "metadata": {},
     "output_type": "execute_result"
    }
   ],
   "source": [
    "#Loading best model\n",
    "best_model = ConvUIL()\n",
    "best_model.load_state_dict(torch.load('best_checkpoint_75.model'))\n",
    "best_model.eval()"
   ]
  },
  {
   "cell_type": "code",
   "execution_count": 44,
   "metadata": {},
   "outputs": [
    {
     "name": "stdout",
     "output_type": "stream",
     "text": [
      "Test Accuracy with best model: 0.8277\n"
     ]
    }
   ],
   "source": [
    "# Test the best_checkpoint_75 on the test subject(Subject 8)\n",
    "loss = 0\n",
    "correct = 0\n",
    "total = torch_test_y.size(0)\n",
    "predictions=[]\n",
    "\n",
    "for observations, labels in test_dataset:\n",
    "    observations = Variable(observations)\n",
    "    labels = Variable(labels)\n",
    "        \n",
    "    # Forward pass\n",
    "    outputs = best_model(observations)\n",
    "    _, predicted = torch.max(outputs.data, 1)\n",
    "    predictions.append(predicted.numpy())\n",
    "    correct += int((predicted == labels).sum())\n",
    "              \n",
    "accuracy = correct / total\n",
    "print('Test Accuracy with best model: %.4f' % (accuracy))"
   ]
  },
  {
   "cell_type": "code",
   "execution_count": 45,
   "metadata": {},
   "outputs": [
    {
     "data": {
      "image/png": "[encoded data removed]",
      "text/plain": [
       "<Figure size 1152x1008 with 2 Axes>"
      ]
     },
     "metadata": {
      "needs_background": "light"
     },
     "output_type": "display_data"
    }
   ],
   "source": [
    "predicted_output = []\n",
    "predicted_output = [item for sublist in predictions for item in sublist]\n",
    "#import sklearn.metrics as metrics\n",
    "LABELS = ['standing', 'walking', 'running', 'walking_upstairs', 'walking_downstairs']\n",
    "actual_output = Y_test\n",
    "confusion_matrix = metrics.confusion_matrix(actual_output, predicted_output)\n",
    "plt.figure(figsize=(16, 14))\n",
    "sns.heatmap(confusion_matrix, xticklabels=LABELS, yticklabels=LABELS, annot=True, fmt=\"d\");\n",
    "plt.title(\"Confusion matrix\")\n",
    "plt.ylabel('True label')\n",
    "plt.xlabel('Predicted label')\n",
    "plt.show();"
   ]
  },
  {
   "cell_type": "code",
   "execution_count": null,
   "metadata": {},
   "outputs": [],
   "source": []
  }
 ],
 "metadata": {
  "kernelspec": {
   "display_name": "Python 3",
   "language": "python",
   "name": "python3"
  },
  "language_info": {
   "codemirror_mode": {
    "name": "ipython",
    "version": 3
   },
   "file_extension": ".py",
   "mimetype": "text/x-python",
   "name": "python",
   "nbconvert_exporter": "python",
   "pygments_lexer": "ipython3",
   "version": "3.7.9"
  }
 },
 "nbformat": 4,
 "nbformat_minor": 4
}
